{
 "cells": [
  {
   "cell_type": "code",
   "execution_count": 1,
   "metadata": {},
   "outputs": [],
   "source": [
    "import os\n",
    "os.chdir('..')\n",
    "\n",
    "import ultralytics\n",
    "from ultralytics import YOLO"
   ]
  },
  {
   "cell_type": "code",
   "execution_count": 2,
   "metadata": {},
   "outputs": [],
   "source": [
    "from ultralytics.data import YOLODataset\n",
    "\n",
    "# YOLODataset(data=\"/home/guycoh/ReliabilityInML_Project/datasets/GlobalWheat/GlobalWheat2020.yaml\", img_path=\"/home/guycoh/ReliabilityInML_Project/datasets/GlobalWheat2020/images\")\n"
   ]
  },
  {
   "cell_type": "code",
   "execution_count": 3,
   "metadata": {},
   "outputs": [],
   "source": [
    "import clearml\n"
   ]
  },
  {
   "cell_type": "code",
   "execution_count": 4,
   "metadata": {},
   "outputs": [],
   "source": [
    "dataset_file = \"/home/guycoh/ReliabilityInML_Project/datasets/GlobalWheat/GlobalWheat2020.yaml\"\n",
    "train_config_file = \"yolo/yolo_train_config.yaml\""
   ]
  },
  {
   "cell_type": "code",
   "execution_count": 5,
   "metadata": {},
   "outputs": [],
   "source": [
    "model = YOLO(model='yolov8l', task=\"detect\")"
   ]
  },
  {
   "cell_type": "code",
   "execution_count": null,
   "metadata": {},
   "outputs": [],
   "source": [
    "results = model.train(\n",
    "    data=dataset_file,\n",
    "    cfg=train_config_file,\n",
    "    # device=device,\n",
    "    # project=output_dir,\n",
    ")"
   ]
  },
  {
   "cell_type": "code",
   "execution_count": 4,
   "metadata": {},
   "outputs": [
    {
     "name": "stdout",
     "output_type": "stream",
     "text": [
      "WARNING ⚠️ 'save_hybrid=True' will append ground truth to predictions for autolabelling.\n",
      "WARNING ⚠️ 'save_hybrid=True' will cause incorrect mAP.\n",
      "\n",
      "Ultralytics YOLOv8.2.99 🚀 Python-3.10.13 torch-2.2.2 CUDA:0 (NVIDIA TITAN Xp, 12190MiB)\n",
      "Model summary (fused): 268 layers, 43,607,379 parameters, 0 gradients\n"
     ]
    },
    {
     "name": "stderr",
     "output_type": "stream",
     "text": [
      "\u001b[34m\u001b[1mval: \u001b[0mScanning /home/guycoh/ReliabilityInML_Project/datasets/GlobalWheat2020/labels/ethz_1.cache... 747 images, 0 backgrounds, 0 corrupt: 100%|██████████| 747/747 [00:00<?, ?it/s]\n",
      "                 Class     Images  Instances      Box(P          R      mAP50  mAP50-95): 100%|██████████| 47/47 [00:57<00:00,  1.22s/it]\n"
     ]
    },
    {
     "name": "stdout",
     "output_type": "stream",
     "text": [
      "                   all        747      49603          1      0.997      0.995      0.995\n",
      "Speed: 1.3ms preprocess, 42.8ms inference, 0.0ms loss, 8.5ms postprocess per image\n",
      "Saving runs/detect/val3/predictions.json...\n",
      "Results saved to \u001b[1mruns/detect/val3\u001b[0m\n"
     ]
    }
   ],
   "source": [
    "\n",
    "model = YOLO(model='ReliabilityInML/wheat17/weights/best.pt', task=\"detect\")\n",
    "val = model.val(\n",
    "    # save_dir='',\n",
    "    imgsz=1024,\n",
    "    save_json=True,\n",
    "    save_hybrid=True,\n",
    "    split='val',\n",
    "    #   conf=0.1,\n",
    "    #  iou=0.6,\n",
    "    )"
   ]
  }
 ],
 "metadata": {
  "kernelspec": {
   "display_name": "rel",
   "language": "python",
   "name": "python3"
  },
  "language_info": {
   "codemirror_mode": {
    "name": "ipython",
    "version": 3
   },
   "file_extension": ".py",
   "mimetype": "text/x-python",
   "name": "python",
   "nbconvert_exporter": "python",
   "pygments_lexer": "ipython3",
   "version": "3.10.13"
  }
 },
 "nbformat": 4,
 "nbformat_minor": 2
}
