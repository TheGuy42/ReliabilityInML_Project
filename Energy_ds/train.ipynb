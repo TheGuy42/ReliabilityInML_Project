{
 "cells": [
  {
   "cell_type": "code",
   "execution_count": 1,
   "metadata": {},
   "outputs": [],
   "source": [
    "import os\n",
    "os.chdir('..')\n",
    "import pandas as pd\n",
    "import numpy as np\n",
    "import matplotlib.pyplot as plt\n",
    "import seaborn as sns\n",
    "from datetime import datetime\n",
    "import torch\n",
    "from torch import nn\n",
    "\n",
    "import sklearn as sk\n",
    "from sklearn.ensemble import RandomForestRegressor\n",
    "\n",
    "\n",
    "from Energy_ds.dataset import DataPrep, DataModule, EnergyDataset\n",
    "from Energy_ds.config import SEASON, REGION, DatasetConfig\n",
    "\n",
    "from neural.train import LightningTrainer\n",
    "from neural.module import LightningModel, LightningWrapper\n",
    "from neural.mlp import MlpBlock, RMLP, MLPLayer\n",
    "from neural.config import TrainConfig\n"
   ]
  },
  {
   "cell_type": "code",
   "execution_count": 2,
   "metadata": {},
   "outputs": [],
   "source": [
    "path = \"Hourly_Energy_Consumption/AEP_hourly.csv\"\n"
   ]
  },
  {
   "cell_type": "code",
   "execution_count": 3,
   "metadata": {},
   "outputs": [],
   "source": [
    "train_config = DatasetConfig(\n",
    "    past_window=24,\n",
    "    years=(2006, 2010)\n",
    ")\n",
    "test_config = DatasetConfig(\n",
    "    past_window=24,\n",
    "    years=(2010, 2014)\n",
    ")"
   ]
  },
  {
   "cell_type": "code",
   "execution_count": 4,
   "metadata": {},
   "outputs": [
    {
     "name": "stdout",
     "output_type": "stream",
     "text": [
      "(121249,)\n",
      "(121249, 30)\n",
      "(121249,)\n",
      "(121249,)\n",
      "(121249, 30)\n",
      "(121249,)\n"
     ]
    }
   ],
   "source": [
    "train_ds = EnergyDataset(path, train_config)\n",
    "test_ds = EnergyDataset(path, test_config)\n",
    "\n",
    "columns = train_ds.features_df.columns"
   ]
  },
  {
   "cell_type": "code",
   "execution_count": null,
   "metadata": {},
   "outputs": [],
   "source": [
    "rf = RandomForestRegressor()\n"
   ]
  },
  {
   "cell_type": "code",
   "execution_count": null,
   "metadata": {},
   "outputs": [],
   "source": [
    "class Experiment:\n",
    "    def __init__(self, model, train_ds, test_ds):\n",
    "        self.model = model\n",
    "        self.train_ds = train_ds\n",
    "        self.test_ds = test_ds\n",
    "\n",
    "    def train(self):\n",
    "        self.model.fit(self.train_ds.X, self.train_ds.y)\n",
    "\n",
    "    def test(self):\n",
    "        y_pred = self.model.predict(self.test_ds.X)\n",
    "        return y_pred\n",
    "    \n",
    "\n"
   ]
  },
  {
   "cell_type": "markdown",
   "metadata": {},
   "source": [
    "# OLD"
   ]
  },
  {
   "cell_type": "code",
   "execution_count": 2,
   "metadata": {},
   "outputs": [],
   "source": [
    "settings = TrainConfig(\n",
    "        # loss_fn = 'bce', # str\n",
    "        # optimizer = 'adam', # str\n",
    "        device = f\"gpu\", # str\n",
    "        log = False, # bool\n",
    "        logs_dir = \"logs/\", # str\n",
    "        num_epochs = 30, # int\n",
    "        checkpoints = 'test.pt', # str\n",
    "        early_stopping = None, # int\n",
    "        log_every = 1, # int\n",
    "        timeout = \"00:12:00:00\", # int\n",
    "        # learning_rate = 0.001, # float\n",
    "        # weight_decay = 1e-06, # float\n",
    "        batch_size = 2048, # int\n",
    "        shuffle = False, # bool\n",
    "        num_workers = 9, # int\n",
    "        # train_test_split = 0.5, # float\n",
    "    )"
   ]
  },
  {
   "cell_type": "code",
   "execution_count": 16,
   "metadata": {},
   "outputs": [
    {
     "name": "stderr",
     "output_type": "stream",
     "text": [
      "/home/guycoh/ReliabilityInML_Project/Energy_ds/dataset.py:140: UserWarning: Boolean Series key will be reindexed to match DataFrame index.\n",
      "  self.data_df = features[mask].copy()\n",
      "/home/guycoh/ReliabilityInML_Project/Energy_ds/dataset.py:180: UserWarning: Boolean Series key will be reindexed to match DataFrame index.\n",
      "  data = data[condition]\n",
      "/home/guycoh/ReliabilityInML_Project/Energy_ds/dataset.py:140: UserWarning: Boolean Series key will be reindexed to match DataFrame index.\n",
      "  self.data_df = features[mask].copy()\n",
      "/home/guycoh/ReliabilityInML_Project/Energy_ds/dataset.py:180: UserWarning: Boolean Series key will be reindexed to match DataFrame index.\n",
      "  data = data[condition]\n"
     ]
    }
   ],
   "source": [
    "path = \"Hourly_Energy_Consumption/AEP_hourly.csv\"\n",
    "past_hours = 2\n",
    "\n",
    "prper = DataPrep(path)\n",
    "data = prper.data\n",
    "\n",
    "# train_years = range(2004, 2016)\n",
    "# val_years = range(2016, 2018)\n",
    "\n",
    "def year_cond(start:int, end:int):\n",
    "    return lambda data: data['Year'].between(start, end)\n",
    "\n",
    "def season_cond(season:SEASON):\n",
    "    return lambda data: data['Season'] == season.value\n",
    "\n",
    "def month_cond(month:int):\n",
    "    return lambda data: data['Month'] == month\n",
    "\n",
    "def cond_and(conds:list):\n",
    "    def cond(data):\n",
    "        mask = pd.Series(len(data)*[True])\n",
    "        for c in conds:\n",
    "            mask = mask & c(data)\n",
    "        return mask\n",
    "    # return lambda data: ([cond(data) for cond in conds])\n",
    "    return cond\n",
    "\n",
    "train_conds = [year_cond(2006, 2008), season_cond(SEASON.WINTER)]\n",
    "val_conds = [year_cond(2009, 2012), season_cond(SEASON.SUMMER)]\n",
    "\n",
    "train_ds = EnergyDataset(path, past_hours=past_hours, condition=cond_and(train_conds))\n",
    "val_ds = EnergyDataset(path, past_hours=past_hours, condition=cond_and(val_conds))\n",
    "\n",
    "\n",
    "datamodule = DataModule(train_ds,\n",
    "                        val_ds,\n",
    "                        batch_size=settings.batch_size,\n",
    "                        num_workers=settings.num_workers,\n",
    "                        shuffle=settings.shuffle,\n",
    "                        seed=42,\n",
    "                        )\n"
   ]
  },
  {
   "cell_type": "code",
   "execution_count": 7,
   "metadata": {},
   "outputs": [
    {
     "data": {
      "text/plain": [
       "10964    14565.0\n",
       "10965    14287.0\n",
       "10966    13932.0\n",
       "10967    13713.0\n",
       "10968    13656.0\n",
       "          ...   \n",
       "37257    19192.0\n",
       "37258    18670.0\n",
       "37259    18319.0\n",
       "37260    17963.0\n",
       "37261    17546.0\n",
       "Name: MW, Length: 6502, dtype: float64"
      ]
     },
     "execution_count": 7,
     "metadata": {},
     "output_type": "execute_result"
    }
   ],
   "source": [
    "train_ds.labels_df"
   ]
  },
  {
   "cell_type": "code",
   "execution_count": 8,
   "metadata": {},
   "outputs": [
    {
     "data": {
      "text/html": [
       "<div>\n",
       "<style scoped>\n",
       "    .dataframe tbody tr th:only-of-type {\n",
       "        vertical-align: middle;\n",
       "    }\n",
       "\n",
       "    .dataframe tbody tr th {\n",
       "        vertical-align: top;\n",
       "    }\n",
       "\n",
       "    .dataframe thead th {\n",
       "        text-align: right;\n",
       "    }\n",
       "</style>\n",
       "<table border=\"1\" class=\"dataframe\">\n",
       "  <thead>\n",
       "    <tr style=\"text-align: right;\">\n",
       "      <th></th>\n",
       "      <th>Region</th>\n",
       "      <th>Year</th>\n",
       "      <th>Day</th>\n",
       "      <th>Hour</th>\n",
       "      <th>Week_Number</th>\n",
       "      <th>Season</th>\n",
       "      <th>MW_at_-1H</th>\n",
       "      <th>MW_at_-2H</th>\n",
       "    </tr>\n",
       "  </thead>\n",
       "  <tbody>\n",
       "    <tr>\n",
       "      <th>10964</th>\n",
       "      <td>1</td>\n",
       "      <td>2006</td>\n",
       "      <td>1</td>\n",
       "      <td>2</td>\n",
       "      <td>52</td>\n",
       "      <td>4</td>\n",
       "      <td>14287.0</td>\n",
       "      <td>14565.0</td>\n",
       "    </tr>\n",
       "    <tr>\n",
       "      <th>10965</th>\n",
       "      <td>1</td>\n",
       "      <td>2006</td>\n",
       "      <td>1</td>\n",
       "      <td>3</td>\n",
       "      <td>52</td>\n",
       "      <td>4</td>\n",
       "      <td>13932.0</td>\n",
       "      <td>14287.0</td>\n",
       "    </tr>\n",
       "    <tr>\n",
       "      <th>10966</th>\n",
       "      <td>1</td>\n",
       "      <td>2006</td>\n",
       "      <td>1</td>\n",
       "      <td>4</td>\n",
       "      <td>52</td>\n",
       "      <td>4</td>\n",
       "      <td>13713.0</td>\n",
       "      <td>13932.0</td>\n",
       "    </tr>\n",
       "    <tr>\n",
       "      <th>10967</th>\n",
       "      <td>1</td>\n",
       "      <td>2006</td>\n",
       "      <td>1</td>\n",
       "      <td>5</td>\n",
       "      <td>52</td>\n",
       "      <td>4</td>\n",
       "      <td>13656.0</td>\n",
       "      <td>13713.0</td>\n",
       "    </tr>\n",
       "    <tr>\n",
       "      <th>10968</th>\n",
       "      <td>1</td>\n",
       "      <td>2006</td>\n",
       "      <td>1</td>\n",
       "      <td>6</td>\n",
       "      <td>52</td>\n",
       "      <td>4</td>\n",
       "      <td>13635.0</td>\n",
       "      <td>13656.0</td>\n",
       "    </tr>\n",
       "    <tr>\n",
       "      <th>...</th>\n",
       "      <td>...</td>\n",
       "      <td>...</td>\n",
       "      <td>...</td>\n",
       "      <td>...</td>\n",
       "      <td>...</td>\n",
       "      <td>...</td>\n",
       "      <td>...</td>\n",
       "      <td>...</td>\n",
       "    </tr>\n",
       "    <tr>\n",
       "      <th>37257</th>\n",
       "      <td>1</td>\n",
       "      <td>2008</td>\n",
       "      <td>31</td>\n",
       "      <td>21</td>\n",
       "      <td>1</td>\n",
       "      <td>4</td>\n",
       "      <td>18670.0</td>\n",
       "      <td>19192.0</td>\n",
       "    </tr>\n",
       "    <tr>\n",
       "      <th>37258</th>\n",
       "      <td>1</td>\n",
       "      <td>2008</td>\n",
       "      <td>31</td>\n",
       "      <td>22</td>\n",
       "      <td>1</td>\n",
       "      <td>4</td>\n",
       "      <td>18319.0</td>\n",
       "      <td>18670.0</td>\n",
       "    </tr>\n",
       "    <tr>\n",
       "      <th>37259</th>\n",
       "      <td>1</td>\n",
       "      <td>2008</td>\n",
       "      <td>31</td>\n",
       "      <td>23</td>\n",
       "      <td>1</td>\n",
       "      <td>4</td>\n",
       "      <td>17963.0</td>\n",
       "      <td>18319.0</td>\n",
       "    </tr>\n",
       "    <tr>\n",
       "      <th>37260</th>\n",
       "      <td>1</td>\n",
       "      <td>2009</td>\n",
       "      <td>1</td>\n",
       "      <td>0</td>\n",
       "      <td>1</td>\n",
       "      <td>4</td>\n",
       "      <td>17546.0</td>\n",
       "      <td>17963.0</td>\n",
       "    </tr>\n",
       "    <tr>\n",
       "      <th>37261</th>\n",
       "      <td>1</td>\n",
       "      <td>2009</td>\n",
       "      <td>1</td>\n",
       "      <td>1</td>\n",
       "      <td>1</td>\n",
       "      <td>4</td>\n",
       "      <td>17141.0</td>\n",
       "      <td>17546.0</td>\n",
       "    </tr>\n",
       "  </tbody>\n",
       "</table>\n",
       "<p>6502 rows × 8 columns</p>\n",
       "</div>"
      ],
      "text/plain": [
       "       Region  Year  Day  Hour  Week_Number  Season  MW_at_-1H  MW_at_-2H\n",
       "10964       1  2006    1     2           52       4    14287.0    14565.0\n",
       "10965       1  2006    1     3           52       4    13932.0    14287.0\n",
       "10966       1  2006    1     4           52       4    13713.0    13932.0\n",
       "10967       1  2006    1     5           52       4    13656.0    13713.0\n",
       "10968       1  2006    1     6           52       4    13635.0    13656.0\n",
       "...       ...   ...  ...   ...          ...     ...        ...        ...\n",
       "37257       1  2008   31    21            1       4    18670.0    19192.0\n",
       "37258       1  2008   31    22            1       4    18319.0    18670.0\n",
       "37259       1  2008   31    23            1       4    17963.0    18319.0\n",
       "37260       1  2009    1     0            1       4    17546.0    17963.0\n",
       "37261       1  2009    1     1            1       4    17141.0    17546.0\n",
       "\n",
       "[6502 rows x 8 columns]"
      ]
     },
     "execution_count": 8,
     "metadata": {},
     "output_type": "execute_result"
    }
   ],
   "source": [
    "train_ds.data_df"
   ]
  },
  {
   "cell_type": "code",
   "execution_count": 9,
   "metadata": {},
   "outputs": [
    {
     "data": {
      "text/plain": [
       "(tensor([1.0000e+00, 2.0060e+03, 1.0000e+00, 2.0000e+00, 5.2000e+01, 4.0000e+00,\n",
       "         1.4287e+04, 1.4565e+04]),\n",
       " tensor(14565.))"
      ]
     },
     "execution_count": 9,
     "metadata": {},
     "output_type": "execute_result"
    }
   ],
   "source": [
    "train_ds[0]"
   ]
  },
  {
   "cell_type": "code",
   "execution_count": 9,
   "metadata": {},
   "outputs": [],
   "source": [
    "# datamodule.prepare_data()\n",
    "dl = datamodule.train_dataloader()"
   ]
  },
  {
   "cell_type": "code",
   "execution_count": 10,
   "metadata": {},
   "outputs": [],
   "source": [
    "batch, label = next(iter(dl))\n",
    "n_features = batch.shape[-1]"
   ]
  },
  {
   "cell_type": "code",
   "execution_count": null,
   "metadata": {},
   "outputs": [],
   "source": [
    "batch.shape, label.shape"
   ]
  },
  {
   "cell_type": "code",
   "execution_count": 31,
   "metadata": {},
   "outputs": [],
   "source": [
    "from torch import Tensor\n",
    "\n",
    "\n",
    "class ResidMLP(LightningModel):\n",
    "    def __init__(self, input_size, hidden_size, output_size=1, loss:nn.Module=nn.L1Loss()):\n",
    "        super().__init__(loss)\n",
    "        # self.f = nn.TransformerEncoderLayer(input_size,\n",
    "        #                                     nhead=4,\n",
    "        #                                     dim_feedforward=hidden_size[-1],\n",
    "        #                                     dropout=0.1,\n",
    "        #                                     activation='relu',\n",
    "        #                                     batch_first=True)\n",
    "        \n",
    "        # self.rmlp = RMLP(\n",
    "        #     in_dim=input_size,\n",
    "        #     block_in_dim=hidden_size[0], \n",
    "        #     block_dims=hidden_size,\n",
    "        #     block_nonlins=[nn.ReLU()]*len(hidden_size),\n",
    "        #     n_blocks=2,\n",
    "        #     out_dim=output_size,\n",
    "        #     out_nonlin=nn.Identity(),\n",
    "        #     batch_norm=False,\n",
    "        #     )\n",
    "        # self.mlp = MlpBlock(\n",
    "        #     in_dim=input_size,\n",
    "        #     dims=hidden_size,\n",
    "        #     nonlins=[nn.Tanh()]*len(hidden_size),\n",
    "        #     batch_norm=False,\n",
    "        #     )\n",
    "        self.out_layer = nn.Linear(input_size, output_size)\n",
    "    \n",
    "    def forward(self, x):\n",
    "        # x = x.flatten(1).to(torch.float32)\n",
    "        # x = self.rmlp(x)\n",
    "        # x = self.mlp(x)\n",
    "        # x = self.f(x)\n",
    "        return self.out_layer(x)#.squeeze(-1)\n",
    "    \n",
    "    def accuracy(self, preds: Tensor, labels: Tensor) -> Tensor:\n",
    "        return (preds - labels).abs().mean()\n",
    "    \n"
   ]
  },
  {
   "cell_type": "code",
   "execution_count": null,
   "metadata": {},
   "outputs": [],
   "source": [
    "in_size = n_features#*past_hours\n",
    "rmlp = ResidMLP(input_size=in_size, hidden_size=[24, 16], output_size=1)\n",
    "\n",
    "model = LightningWrapper(rmlp)\n",
    "print(model)"
   ]
  },
  {
   "cell_type": "code",
   "execution_count": null,
   "metadata": {},
   "outputs": [],
   "source": [
    "trainer = LightningTrainer(settings, \"global_wheat_1\")\n",
    "train_dl, val_dl = datamodule.train_dataloader(), datamodule.val_dataloader()\n",
    "trainer.fit(model, dl_train=train_dl, dl_test=val_dl)\n"
   ]
  },
  {
   "cell_type": "code",
   "execution_count": 10,
   "metadata": {},
   "outputs": [],
   "source": [
    "import sklearn as sk\n",
    "from sklearn.ensemble import RandomForestRegressor"
   ]
  },
  {
   "cell_type": "code",
   "execution_count": 11,
   "metadata": {},
   "outputs": [],
   "source": [
    "rf = RandomForestRegressor()\n"
   ]
  },
  {
   "cell_type": "code",
   "execution_count": 12,
   "metadata": {},
   "outputs": [],
   "source": [
    "rf = rf.fit(train_ds.data, train_ds.labels)"
   ]
  },
  {
   "cell_type": "code",
   "execution_count": 13,
   "metadata": {},
   "outputs": [],
   "source": [
    "def mae(preds, labels):\n",
    "    return np.abs(preds - labels).mean()"
   ]
  },
  {
   "cell_type": "code",
   "execution_count": 17,
   "metadata": {},
   "outputs": [],
   "source": [
    "train_scores = mae(rf.predict(train_ds.data), train_ds.labels.numpy())\n",
    "val_scores = mae(rf.predict(val_ds.data), val_ds.labels.numpy())"
   ]
  },
  {
   "cell_type": "code",
   "execution_count": 69,
   "metadata": {},
   "outputs": [],
   "source": [
    "\n",
    "def validate(model:RandomForestRegressor, val_dl):\n",
    "    scores = []\n",
    "    for batch, label in val_dl:\n",
    "        score = np.abs(model.predict(batch.numpy()) - label.numpy()).flatten()\n",
    "        scores.append(score)\n",
    "    return np.concatenate(scores)\n",
    "\n",
    "train_scores = validate(rf, train_dl)\n",
    "val_scores = validate(rf, val_dl)\n",
    "# scores = []\n",
    "# for batch, label in val_dl:\n",
    "#     score = np.abs(rf.predict(batch.numpy()) - label.numpy()).mean()\n",
    "#     scores.append(score)\n",
    "# print(np.mean(scores))"
   ]
  },
  {
   "cell_type": "code",
   "execution_count": 18,
   "metadata": {},
   "outputs": [
    {
     "name": "stdout",
     "output_type": "stream",
     "text": [
      "train_score = 0.5609689326360994\n",
      "val_score = 13.655823143115938\n"
     ]
    }
   ],
   "source": [
    "print(f\"train_score = {train_scores.mean()}\")\n",
    "print(f\"val_score = {val_scores.mean()}\")"
   ]
  },
  {
   "cell_type": "code",
   "execution_count": null,
   "metadata": {},
   "outputs": [],
   "source": [
    "model(batch)"
   ]
  },
  {
   "cell_type": "code",
   "execution_count": null,
   "metadata": {},
   "outputs": [],
   "source": []
  }
 ],
 "metadata": {
  "kernelspec": {
   "display_name": "rel",
   "language": "python",
   "name": "python3"
  },
  "language_info": {
   "codemirror_mode": {
    "name": "ipython",
    "version": 3
   },
   "file_extension": ".py",
   "mimetype": "text/x-python",
   "name": "python",
   "nbconvert_exporter": "python",
   "pygments_lexer": "ipython3",
   "version": "3.12.5"
  }
 },
 "nbformat": 4,
 "nbformat_minor": 2
}
