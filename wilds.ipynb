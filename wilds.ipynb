{
 "cells": [
  {
   "cell_type": "code",
   "execution_count": 1,
   "metadata": {},
   "outputs": [
    {
     "data": {
      "text/html": [
       "<div>\n",
       "<style scoped>\n",
       "    .dataframe tbody tr th:only-of-type {\n",
       "        vertical-align: middle;\n",
       "    }\n",
       "\n",
       "    .dataframe tbody tr th {\n",
       "        vertical-align: top;\n",
       "    }\n",
       "\n",
       "    .dataframe thead th {\n",
       "        text-align: right;\n",
       "    }\n",
       "</style>\n",
       "<table border=\"1\" class=\"dataframe\">\n",
       "  <thead>\n",
       "    <tr style=\"text-align: right;\">\n",
       "      <th></th>\n",
       "      <th>image_id</th>\n",
       "      <th>category_id</th>\n",
       "      <th>bbox</th>\n",
       "      <th>score</th>\n",
       "    </tr>\n",
       "  </thead>\n",
       "  <tbody>\n",
       "    <tr>\n",
       "      <th>0</th>\n",
       "      <td>001678dc-afb4-4e28-af42-d93c2c91f2f6</td>\n",
       "      <td>0</td>\n",
       "      <td>[24.0, 37.0, 108.0, 36.0]</td>\n",
       "      <td>1.00000</td>\n",
       "    </tr>\n",
       "    <tr>\n",
       "      <th>1</th>\n",
       "      <td>001678dc-afb4-4e28-af42-d93c2c91f2f6</td>\n",
       "      <td>0</td>\n",
       "      <td>[42.0, 521.0, 74.0, 35.0]</td>\n",
       "      <td>1.00000</td>\n",
       "    </tr>\n",
       "    <tr>\n",
       "      <th>2</th>\n",
       "      <td>001678dc-afb4-4e28-af42-d93c2c91f2f6</td>\n",
       "      <td>0</td>\n",
       "      <td>[790.0, 895.0, 52.0, 70.0]</td>\n",
       "      <td>1.00000</td>\n",
       "    </tr>\n",
       "    <tr>\n",
       "      <th>3</th>\n",
       "      <td>001678dc-afb4-4e28-af42-d93c2c91f2f6</td>\n",
       "      <td>0</td>\n",
       "      <td>[238.999, 973.0, 50.0, 34.0]</td>\n",
       "      <td>1.00000</td>\n",
       "    </tr>\n",
       "    <tr>\n",
       "      <th>4</th>\n",
       "      <td>001678dc-afb4-4e28-af42-d93c2c91f2f6</td>\n",
       "      <td>0</td>\n",
       "      <td>[819.0, 718.0, 64.0, 28.0]</td>\n",
       "      <td>1.00000</td>\n",
       "    </tr>\n",
       "    <tr>\n",
       "      <th>...</th>\n",
       "      <td>...</td>\n",
       "      <td>...</td>\n",
       "      <td>...</td>\n",
       "      <td>...</td>\n",
       "    </tr>\n",
       "    <tr>\n",
       "      <th>224095</th>\n",
       "      <td>ffe986f0-e22e-4d3e-a34b-e0e240fd0595</td>\n",
       "      <td>0</td>\n",
       "      <td>[946.207, 651.377, 68.961, 54.417]</td>\n",
       "      <td>0.03586</td>\n",
       "    </tr>\n",
       "    <tr>\n",
       "      <th>224096</th>\n",
       "      <td>ffe986f0-e22e-4d3e-a34b-e0e240fd0595</td>\n",
       "      <td>0</td>\n",
       "      <td>[164.387, 0.0, 100.961, 35.958]</td>\n",
       "      <td>0.03562</td>\n",
       "    </tr>\n",
       "    <tr>\n",
       "      <th>224097</th>\n",
       "      <td>ffe986f0-e22e-4d3e-a34b-e0e240fd0595</td>\n",
       "      <td>0</td>\n",
       "      <td>[415.56, 545.514, 83.055, 37.086]</td>\n",
       "      <td>0.03539</td>\n",
       "    </tr>\n",
       "    <tr>\n",
       "      <th>224098</th>\n",
       "      <td>ffe986f0-e22e-4d3e-a34b-e0e240fd0595</td>\n",
       "      <td>0</td>\n",
       "      <td>[628.969, 551.749, 71.876, 40.896]</td>\n",
       "      <td>0.03461</td>\n",
       "    </tr>\n",
       "    <tr>\n",
       "      <th>224099</th>\n",
       "      <td>ffe986f0-e22e-4d3e-a34b-e0e240fd0595</td>\n",
       "      <td>0</td>\n",
       "      <td>[608.669, 943.226, 74.522, 40.83]</td>\n",
       "      <td>0.03397</td>\n",
       "    </tr>\n",
       "  </tbody>\n",
       "</table>\n",
       "<p>224100 rows × 4 columns</p>\n",
       "</div>"
      ],
      "text/plain": [
       "                                    image_id  category_id  \\\n",
       "0       001678dc-afb4-4e28-af42-d93c2c91f2f6            0   \n",
       "1       001678dc-afb4-4e28-af42-d93c2c91f2f6            0   \n",
       "2       001678dc-afb4-4e28-af42-d93c2c91f2f6            0   \n",
       "3       001678dc-afb4-4e28-af42-d93c2c91f2f6            0   \n",
       "4       001678dc-afb4-4e28-af42-d93c2c91f2f6            0   \n",
       "...                                      ...          ...   \n",
       "224095  ffe986f0-e22e-4d3e-a34b-e0e240fd0595            0   \n",
       "224096  ffe986f0-e22e-4d3e-a34b-e0e240fd0595            0   \n",
       "224097  ffe986f0-e22e-4d3e-a34b-e0e240fd0595            0   \n",
       "224098  ffe986f0-e22e-4d3e-a34b-e0e240fd0595            0   \n",
       "224099  ffe986f0-e22e-4d3e-a34b-e0e240fd0595            0   \n",
       "\n",
       "                                      bbox    score  \n",
       "0                [24.0, 37.0, 108.0, 36.0]  1.00000  \n",
       "1                [42.0, 521.0, 74.0, 35.0]  1.00000  \n",
       "2               [790.0, 895.0, 52.0, 70.0]  1.00000  \n",
       "3             [238.999, 973.0, 50.0, 34.0]  1.00000  \n",
       "4               [819.0, 718.0, 64.0, 28.0]  1.00000  \n",
       "...                                    ...      ...  \n",
       "224095  [946.207, 651.377, 68.961, 54.417]  0.03586  \n",
       "224096     [164.387, 0.0, 100.961, 35.958]  0.03562  \n",
       "224097   [415.56, 545.514, 83.055, 37.086]  0.03539  \n",
       "224098  [628.969, 551.749, 71.876, 40.896]  0.03461  \n",
       "224099   [608.669, 943.226, 74.522, 40.83]  0.03397  \n",
       "\n",
       "[224100 rows x 4 columns]"
      ]
     },
     "execution_count": 1,
     "metadata": {},
     "output_type": "execute_result"
    }
   ],
   "source": [
    "from ultralytics.data import YOLODataset\n",
    "from ultralytics import YOLO\n",
    "import pandas as pd\n",
    "# from ultralytics.data.dataset import \n",
    "\n",
    "# YOLODataset(\n",
    "#     data=\"/home/guycoh/ReliabilityInML_Project/datasets/GlobalWheat/GlobalWheat2020.yaml\",\n",
    "#     img_path=\"/home/guycoh/ReliabilityInML_Project/datasets/GlobalWheat2020/images\")\n",
    "pd.read_json(\"runs/detect/val5/predictions.json\")"
   ]
  },
  {
   "cell_type": "code",
   "execution_count": 25,
   "metadata": {},
   "outputs": [
    {
     "data": {
      "text/html": [
       "<div>\n",
       "<style scoped>\n",
       "    .dataframe tbody tr th:only-of-type {\n",
       "        vertical-align: middle;\n",
       "    }\n",
       "\n",
       "    .dataframe tbody tr th {\n",
       "        vertical-align: top;\n",
       "    }\n",
       "\n",
       "    .dataframe thead th {\n",
       "        text-align: right;\n",
       "    }\n",
       "</style>\n",
       "<table border=\"1\" class=\"dataframe\">\n",
       "  <thead>\n",
       "    <tr style=\"text-align: right;\">\n",
       "      <th></th>\n",
       "      <th>class</th>\n",
       "      <th>x</th>\n",
       "      <th>y</th>\n",
       "      <th>w</th>\n",
       "      <th>h</th>\n",
       "    </tr>\n",
       "  </thead>\n",
       "  <tbody>\n",
       "    <tr>\n",
       "      <th>0</th>\n",
       "      <td>0</td>\n",
       "      <td>0.666016</td>\n",
       "      <td>0.706055</td>\n",
       "      <td>0.052734</td>\n",
       "      <td>0.070312</td>\n",
       "    </tr>\n",
       "    <tr>\n",
       "      <th>1</th>\n",
       "      <td>0</td>\n",
       "      <td>0.676758</td>\n",
       "      <td>0.765625</td>\n",
       "      <td>0.041016</td>\n",
       "      <td>0.083984</td>\n",
       "    </tr>\n",
       "    <tr>\n",
       "      <th>2</th>\n",
       "      <td>0</td>\n",
       "      <td>0.695801</td>\n",
       "      <td>0.573242</td>\n",
       "      <td>0.032227</td>\n",
       "      <td>0.035156</td>\n",
       "    </tr>\n",
       "    <tr>\n",
       "      <th>3</th>\n",
       "      <td>0</td>\n",
       "      <td>0.695312</td>\n",
       "      <td>0.413574</td>\n",
       "      <td>0.089844</td>\n",
       "      <td>0.053711</td>\n",
       "    </tr>\n",
       "    <tr>\n",
       "      <th>4</th>\n",
       "      <td>0</td>\n",
       "      <td>0.274902</td>\n",
       "      <td>0.250977</td>\n",
       "      <td>0.059570</td>\n",
       "      <td>0.039062</td>\n",
       "    </tr>\n",
       "    <tr>\n",
       "      <th>...</th>\n",
       "      <td>...</td>\n",
       "      <td>...</td>\n",
       "      <td>...</td>\n",
       "      <td>...</td>\n",
       "      <td>...</td>\n",
       "    </tr>\n",
       "    <tr>\n",
       "      <th>70</th>\n",
       "      <td>0</td>\n",
       "      <td>0.714355</td>\n",
       "      <td>0.620605</td>\n",
       "      <td>0.079102</td>\n",
       "      <td>0.071289</td>\n",
       "    </tr>\n",
       "    <tr>\n",
       "      <th>71</th>\n",
       "      <td>0</td>\n",
       "      <td>0.565918</td>\n",
       "      <td>0.227539</td>\n",
       "      <td>0.038086</td>\n",
       "      <td>0.039062</td>\n",
       "    </tr>\n",
       "    <tr>\n",
       "      <th>72</th>\n",
       "      <td>0</td>\n",
       "      <td>0.044922</td>\n",
       "      <td>0.181152</td>\n",
       "      <td>0.031250</td>\n",
       "      <td>0.045898</td>\n",
       "    </tr>\n",
       "    <tr>\n",
       "      <th>73</th>\n",
       "      <td>0</td>\n",
       "      <td>0.371582</td>\n",
       "      <td>0.288086</td>\n",
       "      <td>0.047852</td>\n",
       "      <td>0.027344</td>\n",
       "    </tr>\n",
       "    <tr>\n",
       "      <th>74</th>\n",
       "      <td>0</td>\n",
       "      <td>0.729492</td>\n",
       "      <td>0.016602</td>\n",
       "      <td>0.082031</td>\n",
       "      <td>0.033203</td>\n",
       "    </tr>\n",
       "  </tbody>\n",
       "</table>\n",
       "<p>75 rows × 5 columns</p>\n",
       "</div>"
      ],
      "text/plain": [
       "    class         x         y         w         h\n",
       "0       0  0.666016  0.706055  0.052734  0.070312\n",
       "1       0  0.676758  0.765625  0.041016  0.083984\n",
       "2       0  0.695801  0.573242  0.032227  0.035156\n",
       "3       0  0.695312  0.413574  0.089844  0.053711\n",
       "4       0  0.274902  0.250977  0.059570  0.039062\n",
       "..    ...       ...       ...       ...       ...\n",
       "70      0  0.714355  0.620605  0.079102  0.071289\n",
       "71      0  0.565918  0.227539  0.038086  0.039062\n",
       "72      0  0.044922  0.181152  0.031250  0.045898\n",
       "73      0  0.371582  0.288086  0.047852  0.027344\n",
       "74      0  0.729492  0.016602  0.082031  0.033203\n",
       "\n",
       "[75 rows x 5 columns]"
      ]
     },
     "execution_count": 25,
     "metadata": {},
     "output_type": "execute_result"
    }
   ],
   "source": [
    "pd.read_csv(\"datasets/GlobalWheat2020/labels/arvalis_1/0a4aa505-050f-4a20-82fc-347da4f69c35.txt\", \n",
    "            sep=\" \", \n",
    "            names=[\"class\", \"x\", \"y\", \"w\", \"h\"],\n",
    "            )"
   ]
  },
  {
   "cell_type": "code",
   "execution_count": 10,
   "metadata": {},
   "outputs": [
    {
     "name": "stdout",
     "output_type": "stream",
     "text": [
      "\n",
      "image 1/1 /home/guycoh/ReliabilityInML_Project/datasets/GlobalWheat2020/images/arvalis_3/0a82cf5a-83df-453e-bc85-2852cce9ddc2.png: 1024x1024 2 wheat_heads, 97.5ms\n",
      "Speed: 3.3ms preprocess, 97.5ms inference, 555.3ms postprocess per image at shape (1, 3, 1024, 1024)\n"
     ]
    }
   ],
   "source": [
    "model = YOLO(model='ReliabilityInML/wheat16/weights/best.pt', task=\"detect\")\n",
    "res = model(\"datasets/GlobalWheat2020/images/arvalis_3/0a82cf5a-83df-453e-bc85-2852cce9ddc2.png\")\n",
    "# model.val(\n",
    "#     # save_dir='',\n",
    "#     imgsz=1024,\n",
    "#     save_json=True,\n",
    "#     save_hybrid=True,\n",
    "#     split='test',\n",
    "#     #   conf=0.1,\n",
    "#     #  iou=0.6,\n",
    "#     )"
   ]
  },
  {
   "cell_type": "code",
   "execution_count": 20,
   "metadata": {},
   "outputs": [
    {
     "data": {
      "text/plain": [
       "{'x1': 690.22729, 'y1': 907.04358, 'x2': 835.33081, 'y2': 990.67712}"
      ]
     },
     "execution_count": 20,
     "metadata": {},
     "output_type": "execute_result"
    }
   ],
   "source": [
    "df = res[0].to_df()\n",
    "df['box'][0]"
   ]
  },
  {
   "cell_type": "code",
   "execution_count": 2,
   "metadata": {},
   "outputs": [],
   "source": [
    "from wilds import get_dataset\n",
    "from wilds.common.data_loaders import get_train_loader\n",
    "import torchvision.transforms as transforms\n",
    "from wilds.datasets.globalwheat_dataset import GlobalWheatDataset\n",
    "\n",
    "from neural.config import TrainConfig"
   ]
  },
  {
   "cell_type": "code",
   "execution_count": 1,
   "metadata": {},
   "outputs": [
    {
     "data": {
      "text/plain": [
       "'2.4.1'"
      ]
     },
     "execution_count": 1,
     "metadata": {},
     "output_type": "execute_result"
    }
   ],
   "source": [
    "import torch\n",
    "torch.__version__"
   ]
  },
  {
   "cell_type": "code",
   "execution_count": null,
   "metadata": {},
   "outputs": [],
   "source": [
    "settings = TrainConfig(\n",
    "        # loss_fn = 'bce', # str\n",
    "        # optimizer = 'adam', # str\n",
    "        device = f\"cpu\", # str\n",
    "        log = True, # bool\n",
    "        logs_dir = \"logs/\", # str\n",
    "        num_epochs = 30, # int\n",
    "        checkpoints = 'test.pt', # str\n",
    "        early_stopping = None, # int\n",
    "        log_every = 1, # int\n",
    "        timeout = \"00:12:00:00\", # int\n",
    "        # learning_rate = 0.001, # float\n",
    "        # weight_decay = 1e-06, # float\n",
    "        batch_size = 50, # int\n",
    "        shuffle = True, # bool\n",
    "        num_workers = 9, # int\n",
    "        train_test_split = 0.5, # float\n",
    "    )"
   ]
  },
  {
   "cell_type": "code",
   "execution_count": 3,
   "metadata": {},
   "outputs": [],
   "source": [
    "\n",
    "# Load the full dataset, and download it if necessary\n",
    "dataset:GlobalWheatDataset = get_dataset(dataset=\"globalwheat\", download=True)\n"
   ]
  },
  {
   "cell_type": "code",
   "execution_count": 4,
   "metadata": {},
   "outputs": [
    {
     "name": "stdout",
     "output_type": "stream",
     "text": [
      "['session', 'country', 'location', 'stage', 'from_source_domain']\n",
      "{'train': 'Train', 'val': 'Validation', 'test': 'Test'}\n"
     ]
    }
   ],
   "source": [
    "print(dataset.metadata_fields)\n",
    "print(dataset.DEFAULT_SPLIT_NAMES)"
   ]
  },
  {
   "cell_type": "code",
   "execution_count": null,
   "metadata": {},
   "outputs": [],
   "source": []
  },
  {
   "cell_type": "code",
   "execution_count": 8,
   "metadata": {},
   "outputs": [],
   "source": [
    "# Get the training set\n",
    "train_data = dataset.get_subset(\"train\")\n",
    "val_data = dataset.get_subset('val')"
   ]
  },
  {
   "cell_type": "code",
   "execution_count": 7,
   "metadata": {},
   "outputs": [
    {
     "data": {
      "text/plain": [
       "array([   0,    1,    2, ..., 2940, 2941, 2942])"
      ]
     },
     "execution_count": 7,
     "metadata": {},
     "output_type": "execute_result"
    }
   ],
   "source": [
    "train_data.indices"
   ]
  },
  {
   "cell_type": "code",
   "execution_count": 9,
   "metadata": {},
   "outputs": [
    {
     "data": {
      "text/plain": [
       "array([2943, 2944, 2945, ..., 4364, 4365, 4366])"
      ]
     },
     "execution_count": 9,
     "metadata": {},
     "output_type": "execute_result"
    }
   ],
   "source": [
    "val_data.indices"
   ]
  },
  {
   "cell_type": "code",
   "execution_count": null,
   "metadata": {},
   "outputs": [],
   "source": [
    "# Prepare the standard data loader\n",
    "train_loader = get_train_loader(\"standard\", train_data, batch_size=16)"
   ]
  },
  {
   "cell_type": "code",
   "execution_count": null,
   "metadata": {},
   "outputs": [],
   "source": [
    "# unlabeled_data = dataset.get_subset(\n",
    "#     \"test_unlabeled\",\n",
    "#     transform=transforms.Compose(\n",
    "#         [transforms.Resize((448, 448)), transforms.ToTensor()]\n",
    "#     ),\n",
    "# )\n",
    "# unlabeled_loader = get_train_loader(\"standard\", unlabeled_data, batch_size=16)"
   ]
  },
  {
   "cell_type": "code",
   "execution_count": 15,
   "metadata": {},
   "outputs": [
    {
     "data": {
      "text/plain": [
       "tensor([1])"
      ]
     },
     "execution_count": 15,
     "metadata": {},
     "output_type": "execute_result"
    }
   ],
   "source": [
    "from wilds.common.grouper import CombinatorialGrouper\n",
    "\n",
    "# Initialize grouper, which extracts domain information\n",
    "# In this example, we form domains based on location\n",
    "grouper = CombinatorialGrouper(dataset, ['location'])\n"
   ]
  },
  {
   "cell_type": "code",
   "execution_count": null,
   "metadata": {},
   "outputs": [],
   "source": []
  },
  {
   "cell_type": "code",
   "execution_count": null,
   "metadata": {},
   "outputs": [],
   "source": [
    "# Train loop\n",
    "for labeled_batch, unlabeled_batch in zip(train_loader, unlabeled_loader):\n",
    "    x, y, metadata = labeled_batch\n",
    "    unlabeled_x, unlabeled_metadata = unlabeled_batch\n",
    "    ..."
   ]
  }
 ],
 "metadata": {
  "kernelspec": {
   "display_name": "test",
   "language": "python",
   "name": "python3"
  },
  "language_info": {
   "codemirror_mode": {
    "name": "ipython",
    "version": 3
   },
   "file_extension": ".py",
   "mimetype": "text/x-python",
   "name": "python",
   "nbconvert_exporter": "python",
   "pygments_lexer": "ipython3",
   "version": "3.10.13"
  }
 },
 "nbformat": 4,
 "nbformat_minor": 2
}
