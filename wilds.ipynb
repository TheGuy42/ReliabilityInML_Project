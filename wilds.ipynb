{
 "cells": [
  {
   "cell_type": "code",
   "execution_count": 1,
   "metadata": {},
   "outputs": [],
   "source": [
    "from wilds import get_dataset\n",
    "from wilds.common.data_loaders import get_train_loader\n",
    "import torchvision.transforms as transforms\n"
   ]
  },
  {
   "cell_type": "code",
   "execution_count": null,
   "metadata": {},
   "outputs": [],
   "source": [
    "\n",
    "# Load the full dataset, and download it if necessary\n",
    "dataset = get_dataset(dataset=\"globalwheat\", download=True)\n",
    "\n",
    "# Get the training set\n",
    "train_data = dataset.get_subset(\n",
    "    \"train\",\n",
    ")\n",
    "\n",
    "# Prepare the standard data loader\n",
    "train_loader = get_train_loader(\"standard\", train_data, batch_size=16)\n",
    "\n",
    "# (Optional) Load unlabeled data\n",
    "# dataset = get_dataset(dataset=\"iwildcam\", download=True, unlabeled=True)\n",
    "\n",
    "\n"
   ]
  },
  {
   "cell_type": "code",
   "execution_count": null,
   "metadata": {},
   "outputs": [],
   "source": [
    "# unlabeled_data = dataset.get_subset(\n",
    "#     \"test_unlabeled\",\n",
    "#     transform=transforms.Compose(\n",
    "#         [transforms.Resize((448, 448)), transforms.ToTensor()]\n",
    "#     ),\n",
    "# )\n",
    "# unlabeled_loader = get_train_loader(\"standard\", unlabeled_data, batch_size=16)"
   ]
  },
  {
   "cell_type": "code",
   "execution_count": null,
   "metadata": {},
   "outputs": [],
   "source": [
    "# Train loop\n",
    "for labeled_batch, unlabeled_batch in zip(train_loader, unlabeled_loader):\n",
    "    x, y, metadata = labeled_batch\n",
    "    unlabeled_x, unlabeled_metadata = unlabeled_batch\n",
    "    ..."
   ]
  }
 ],
 "metadata": {
  "kernelspec": {
   "display_name": "test",
   "language": "python",
   "name": "python3"
  },
  "language_info": {
   "codemirror_mode": {
    "name": "ipython",
    "version": 3
   },
   "file_extension": ".py",
   "mimetype": "text/x-python",
   "name": "python",
   "nbconvert_exporter": "python",
   "pygments_lexer": "ipython3",
   "version": "3.10.14"
  }
 },
 "nbformat": 4,
 "nbformat_minor": 2
}
